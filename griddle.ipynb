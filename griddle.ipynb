{
 "cells": [
  {
   "cell_type": "code",
   "execution_count": null,
   "metadata": {
    "collapsed": false
   },
   "outputs": [],
   "source": [
    "%matplotlib inline\n",
    "import mpld3\n",
    "import griddle\n",
    "reload(griddle)\n",
    "from clawpack import pyclaw\n",
    "import numpy as np\n",
    "import matplotlib.pyplot as plt\n",
    "#from JSAnimation import IPython_display\n",
    "#mpld3.enable_notebook()  # too slow with pcolor plots"
   ]
  },
  {
   "cell_type": "markdown",
   "metadata": {},
   "source": [
    "# Plot one curve from mock data"
   ]
  },
  {
   "cell_type": "code",
   "execution_count": null,
   "metadata": {
    "collapsed": false
   },
   "outputs": [],
   "source": [
    "x = pyclaw.Dimension(0.,1.,100)\n",
    "g = pyclaw.geometry.Patch([x])\n",
    "s = pyclaw.State(g,num_eqn=2)\n",
    "d = pyclaw.Domain(g)"
   ]
  },
  {
   "cell_type": "code",
   "execution_count": null,
   "metadata": {
    "collapsed": false
   },
   "outputs": [],
   "source": [
    "xc, = g.grid.p_centers\n",
    "s.q[0,:] = np.sin(4*np.pi*xc)\n",
    "s.q[1,:] = np.exp(xc)\n",
    "sol = pyclaw.Solution(s,d)"
   ]
  },
  {
   "cell_type": "code",
   "execution_count": null,
   "metadata": {
    "collapsed": false
   },
   "outputs": [],
   "source": [
    "item = {'data' : [sol], 'field' : 0}\n",
    "plot_spec = [item]"
   ]
  },
  {
   "cell_type": "code",
   "execution_count": null,
   "metadata": {
    "collapsed": false
   },
   "outputs": [],
   "source": [
    "plot_objects = griddle.plot_frame(plot_spec)"
   ]
  },
  {
   "cell_type": "markdown",
   "metadata": {},
   "source": [
    "Note that `plot_objects` is a list of lists of handles to matplotlib objects.  The outer list corresponds to entries in `plot_spec`; the sublists correspond to patches.  In this case there is just one:"
   ]
  },
  {
   "cell_type": "code",
   "execution_count": null,
   "metadata": {
    "collapsed": false
   },
   "outputs": [],
   "source": [
    "plot_objects[0][0]"
   ]
  },
  {
   "cell_type": "markdown",
   "metadata": {},
   "source": [
    "# Plotting multiple items on multiple axes"
   ]
  },
  {
   "cell_type": "code",
   "execution_count": null,
   "metadata": {
    "collapsed": false
   },
   "outputs": [],
   "source": [
    "fig = plt.figure()\n",
    "ax1 = fig.add_subplot(211)\n",
    "ax2 = fig.add_subplot(212)\n",
    "item1 = {'data' : [sol],\n",
    "         'field' : 0,\n",
    "         'axes' : ax1,\n",
    "         'plot_args' : {'ls' : '--', 'color' : 'green'}}\n",
    "item2 = {'data' : [sol], 'field' : 1, 'axes' : ax2}\n",
    "item3 = {'data' : [sol], 'field' : 1, 'axes' : ax1}\n",
    "plot_spec = [item1,item2,item3]\n",
    "plot_objects = griddle.plot_frame(plot_spec)"
   ]
  },
  {
   "cell_type": "code",
   "execution_count": null,
   "metadata": {
    "collapsed": false
   },
   "outputs": [],
   "source": [
    "plot_objects"
   ]
  },
  {
   "cell_type": "markdown",
   "metadata": {},
   "source": [
    "The list of plot objects (list over patches) for each plot item is also stored as a field in the item dictionary:"
   ]
  },
  {
   "cell_type": "code",
   "execution_count": null,
   "metadata": {
    "collapsed": false
   },
   "outputs": [],
   "source": [
    "item1"
   ]
  },
  {
   "cell_type": "markdown",
   "metadata": {},
   "source": [
    "# Plotting multiple items on multiple figures"
   ]
  },
  {
   "cell_type": "code",
   "execution_count": null,
   "metadata": {
    "collapsed": false
   },
   "outputs": [],
   "source": [
    "fig1 = plt.figure()\n",
    "ax1 = fig1.add_subplot(211)\n",
    "ax2 = fig1.add_subplot(212)\n",
    "item1 = {'data' : [sol],\n",
    "         'field' : 0,\n",
    "         'axes' : ax1,\n",
    "         'plot_args' : {'ls' : '--', 'color' : 'green'}}\n",
    "item2 = {'data' : [sol], 'field' : 1, 'axes' : ax2}\n",
    "fig2 = plt.figure()\n",
    "ax3 = fig2.add_subplot(111)\n",
    "item3 = {'data' : [sol], 'field' : 1, 'axes' : ax3}\n",
    "plot_spec = [item1,item2,item3]\n",
    "plot_object = griddle.plot_frame(plot_spec)\n",
    "ax2.set_title('blah');\n",
    "ax3.set_title('whoa');"
   ]
  },
  {
   "cell_type": "markdown",
   "metadata": {},
   "source": [
    "# Derived quantities"
   ]
  },
  {
   "cell_type": "code",
   "execution_count": null,
   "metadata": {
    "collapsed": false
   },
   "outputs": [],
   "source": [
    "def energy(state):\n",
    "    return state.q[0,:]**2 + state.q[1,:]**2"
   ]
  },
  {
   "cell_type": "code",
   "execution_count": null,
   "metadata": {
    "collapsed": false
   },
   "outputs": [],
   "source": [
    "item3['field'] = energy\n",
    "plot_spec = [item1,item2,item3]\n",
    "plot_object = griddle.plot_frame(plot_spec)\n",
    "ax2.set_title('blah');\n",
    "ax3.set_title('whoa');"
   ]
  },
  {
   "cell_type": "markdown",
   "metadata": {},
   "source": [
    "In this case, the figures didn't automatically appear because they had already been created.  To show the figures, we just ask for them by name. "
   ]
  },
  {
   "cell_type": "code",
   "execution_count": null,
   "metadata": {
    "collapsed": false
   },
   "outputs": [],
   "source": [
    "fig1"
   ]
  },
  {
   "cell_type": "code",
   "execution_count": null,
   "metadata": {
    "collapsed": false
   },
   "outputs": [],
   "source": [
    "fig2"
   ]
  },
  {
   "cell_type": "markdown",
   "metadata": {},
   "source": [
    "# Animating simulation data"
   ]
  },
  {
   "cell_type": "code",
   "execution_count": null,
   "metadata": {
    "collapsed": false
   },
   "outputs": [],
   "source": [
    "from clawpack.pyclaw import examples\n",
    "claw = examples.acoustics_1d_homogeneous.acoustics_1d.setup()\n",
    "claw.verbosity=0\n",
    "status = claw.run()"
   ]
  },
  {
   "cell_type": "code",
   "execution_count": null,
   "metadata": {
    "collapsed": false
   },
   "outputs": [],
   "source": [
    "item1['data'] = claw.frames\n",
    "item2['data'] = claw.frames\n",
    "plot_spec = [item1,item2]\n",
    "griddle.animate(plot_spec)"
   ]
  },
  {
   "cell_type": "code",
   "execution_count": null,
   "metadata": {
    "collapsed": false
   },
   "outputs": [],
   "source": [
    "griddle.write_plots(plot_spec)"
   ]
  },
  {
   "cell_type": "code",
   "execution_count": null,
   "metadata": {
    "collapsed": false
   },
   "outputs": [],
   "source": [
    "# This hangs:\n",
    "#griddle.make_plot_gallery()"
   ]
  },
  {
   "cell_type": "markdown",
   "metadata": {},
   "source": [
    "# Load data from file"
   ]
  },
  {
   "cell_type": "code",
   "execution_count": null,
   "metadata": {
    "collapsed": false
   },
   "outputs": [],
   "source": [
    "item4 = {'data_path' : './_output',\n",
    "         'field' : 0}\n",
    "plot_spec = [item4]\n",
    "griddle.plot_frame(plot_spec,frame_num=3);"
   ]
  },
  {
   "cell_type": "code",
   "execution_count": null,
   "metadata": {
    "collapsed": false
   },
   "outputs": [],
   "source": [
    "claw = examples.radial_dam_break.setup()\n",
    "claw.verbosity=0\n",
    "status = claw.run()"
   ]
  },
  {
   "cell_type": "code",
   "execution_count": null,
   "metadata": {
    "collapsed": false
   },
   "outputs": [],
   "source": [
    "plot_spec = [{'data' : claw.frames,\n",
    "              'field' : 0}]\n",
    "griddle.animate(plot_spec)"
   ]
  },
  {
   "cell_type": "markdown",
   "metadata": {},
   "source": [
    "# Mapped grids"
   ]
  },
  {
   "cell_type": "markdown",
   "metadata": {},
   "source": [
    "Plotting with mapped grids \"just works\"."
   ]
  },
  {
   "cell_type": "code",
   "execution_count": null,
   "metadata": {
    "collapsed": false
   },
   "outputs": [],
   "source": [
    "claw = examples.advection_annulus.setup()\n",
    "claw.verbosity = 0\n",
    "claw.run()"
   ]
  },
  {
   "cell_type": "code",
   "execution_count": null,
   "metadata": {
    "collapsed": false
   },
   "outputs": [],
   "source": [
    "plot_spec = [{'data' : claw.frames,\n",
    "              'field' : 0}]\n",
    "griddle.animate(plot_spec)"
   ]
  },
  {
   "cell_type": "markdown",
   "metadata": {},
   "source": [
    "# Plotting AMR data"
   ]
  },
  {
   "cell_type": "code",
   "execution_count": null,
   "metadata": {
    "collapsed": false
   },
   "outputs": [],
   "source": [
    "fig = plt.figure(figsize=(6,6))\n",
    "ax = fig.add_subplot(111)\n",
    "item5 = {'data_path' : './test_data/_amrclaw_2d_acoustics/',\n",
    "         'field' : 0,\n",
    "         'axes' : ax,\n",
    "         'name' : 'pressure',\n",
    "         #'plot_args' : {'edgecolor' : 'k'}}\n",
    "         'show_patch_boundaries' : True,\n",
    "         'plot_args' : {'cmap' : 'RdBu'}}\n",
    "plot_spec = [item5]\n",
    "plot_objects = griddle.plot_frame(plot_spec,frame_num=5);"
   ]
  },
  {
   "cell_type": "code",
   "execution_count": null,
   "metadata": {
    "collapsed": false
   },
   "outputs": [],
   "source": [
    "griddle.animate(plot_spec)"
   ]
  },
  {
   "cell_type": "code",
   "execution_count": null,
   "metadata": {
    "collapsed": false
   },
   "outputs": [],
   "source": [
    "griddle.write_plots(plot_spec,path='_plots/amr')"
   ]
  },
  {
   "cell_type": "markdown",
   "metadata": {},
   "source": [
    "# Plotting from 3D data with yt"
   ]
  },
  {
   "cell_type": "code",
   "execution_count": null,
   "metadata": {
    "collapsed": false
   },
   "outputs": [],
   "source": [
    "import logging\n",
    "logger = logging.getLogger()\n",
    "logger.setLevel(logging.CRITICAL)"
   ]
  },
  {
   "cell_type": "code",
   "execution_count": null,
   "metadata": {
    "collapsed": false
   },
   "outputs": [],
   "source": [
    "plot_spec = [{'data_path' : './test_data/_pyclaw_3d_shocktube',\n",
    "              'field' : 'Density',\n",
    "              'plot_args' : {'normal' : 'z',\n",
    "                            'origin'  : \"native\",\n",
    "                            'center' : [1., 0.25, 0.]}}]\n",
    "plot_objects = griddle.plot_frame(plot_spec)"
   ]
  },
  {
   "cell_type": "code",
   "execution_count": null,
   "metadata": {
    "collapsed": false
   },
   "outputs": [],
   "source": [
    "plot_spec[0]['plot_objects'][0]"
   ]
  },
  {
   "cell_type": "code",
   "execution_count": null,
   "metadata": {
    "collapsed": false
   },
   "outputs": [],
   "source": [
    "griddle.animate(plot_spec)"
   ]
  },
  {
   "cell_type": "code",
   "execution_count": null,
   "metadata": {
    "collapsed": false
   },
   "outputs": [],
   "source": [
    "x=plot_spec[0]['plot_objects'][0]"
   ]
  },
  {
   "cell_type": "code",
   "execution_count": null,
   "metadata": {
    "collapsed": false
   },
   "outputs": [],
   "source": [
    "x.plots['Density'].figure"
   ]
  }
 ],
 "metadata": {
  "kernelspec": {
   "display_name": "Python 2",
   "language": "python",
   "name": "python2"
  },
  "language_info": {
   "codemirror_mode": {
    "name": "ipython",
    "version": 2
   },
   "file_extension": ".py",
   "mimetype": "text/x-python",
   "name": "python",
   "nbconvert_exporter": "python",
   "pygments_lexer": "ipython2",
   "version": "2.7.9"
  }
 },
 "nbformat": 4,
 "nbformat_minor": 0
}
