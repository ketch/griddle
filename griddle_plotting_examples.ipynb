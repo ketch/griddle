{
 "metadata": {
  "name": "",
  "signature": "sha256:381c07f071b0a55ce36fdf35d7f82e828c813812b5803fae5771d7b39179715e"
 },
 "nbformat": 3,
 "nbformat_minor": 0,
 "worksheets": [
  {
   "cells": [
    {
     "cell_type": "heading",
     "level": 1,
     "metadata": {},
     "source": [
      "Examples with `griddle.plot`"
     ]
    },
    {
     "cell_type": "markdown",
     "metadata": {},
     "source": [
      "- [1D PyClaw animation](#1D-acoustics-animation---PyClaw)\n",
      "- [2D PyClaw animation](#2D-Acoustics-animation---PyClaw)\n",
      "- [Mapped grid](#Advection-on-a-mapped-grid)\n",
      "- [Fill between](#1D-Shallow-water-fill-between)\n",
      "- [AMR data from files](#Plotting-AMR-data-from-file)\n",
      "- [Slice of 3D data with yt](#Plotting-from-3D-data-with-yt)"
     ]
    },
    {
     "cell_type": "code",
     "collapsed": false,
     "input": [
      "%matplotlib inline\n",
      "import matplotlib.pyplot as plt\n",
      "from clawpack.pyclaw import examples\n",
      "import griddle"
     ],
     "language": "python",
     "metadata": {},
     "outputs": []
    },
    {
     "cell_type": "heading",
     "level": 1,
     "metadata": {},
     "source": [
      "1D acoustics animation - PyClaw"
     ]
    },
    {
     "cell_type": "code",
     "collapsed": false,
     "input": [
      "claw = examples.acoustics_1d.setup()\n",
      "claw.verbosity = 0\n",
      "claw.output_format = None\n",
      "claw.run()"
     ],
     "language": "python",
     "metadata": {},
     "outputs": []
    },
    {
     "cell_type": "code",
     "collapsed": false,
     "input": [
      "fig = plt.figure()\n",
      "ax1 = fig.add_subplot(211)\n",
      "ax1.set_ylim(-0.1, 1.1)\n",
      "ax1.autoscale(False)\n",
      "ax2 = fig.add_subplot(212)\n",
      "plt.tight_layout()\n",
      "\n",
      "item1 = {'data' : claw.frames,\n",
      "         'field' : 0,\n",
      "         'name' : 'pressure',\n",
      "         'axes' : ax1,\n",
      "         'plot_args' : {'linestyle' : '-',\n",
      "                       'marker' : 'o',\n",
      "                       'lw' : 2},\n",
      "         'axis_settings' : {'ylim' : (-0.1,1.1)}}\n",
      "item2 = {'data' : claw.frames,\n",
      "         'field' : 1,\n",
      "         'name' : 'velocity',\n",
      "         'axes' : ax2,\n",
      "         'plot_args' : {'linestyle' : '-',\n",
      "                       'marker' : '',\n",
      "                       'lw' : 2},\n",
      "        'axis_settings' : {'ylim' : (-0.6,0.6)}}\n",
      "plot_spec = [item1, item2]\n",
      "griddle.animate(plot_spec)"
     ],
     "language": "python",
     "metadata": {},
     "outputs": []
    },
    {
     "cell_type": "heading",
     "level": 1,
     "metadata": {},
     "source": [
      "2D Acoustics animation - PyClaw"
     ]
    },
    {
     "cell_type": "code",
     "collapsed": false,
     "input": [
      "claw = examples.acoustics_2d.setup()\n",
      "claw.verbosity = 0\n",
      "claw.run()"
     ],
     "language": "python",
     "metadata": {},
     "outputs": []
    },
    {
     "cell_type": "code",
     "collapsed": false,
     "input": [
      "item3 = {'data' : claw.frames,\n",
      "         'field' : 0,\n",
      "         'name' : 'pressure',\n",
      "         'plot_args' : {'cmap' : 'RdBu'}}\n",
      "griddle.animate([item3])"
     ],
     "language": "python",
     "metadata": {},
     "outputs": []
    },
    {
     "cell_type": "heading",
     "level": 1,
     "metadata": {},
     "source": [
      "Advection on a mapped grid"
     ]
    },
    {
     "cell_type": "code",
     "collapsed": false,
     "input": [
      "claw = examples.advection_annulus.setup()\n",
      "claw.verbosity = 0\n",
      "claw.run()"
     ],
     "language": "python",
     "metadata": {},
     "outputs": []
    },
    {
     "cell_type": "code",
     "collapsed": false,
     "input": [
      "item4 = {'data' : claw.frames,\n",
      "         'field' : 0,\n",
      "         'plot_args' : {'cmap' : 'RdBu'}}\n",
      "griddle.animate([item4])"
     ],
     "language": "python",
     "metadata": {},
     "outputs": []
    },
    {
     "cell_type": "heading",
     "level": 1,
     "metadata": {},
     "source": [
      "1D Shallow water fill-between"
     ]
    },
    {
     "cell_type": "markdown",
     "metadata": {},
     "source": [
      "This example also shows how to plot multiple items on the same axes."
     ]
    },
    {
     "cell_type": "code",
     "collapsed": false,
     "input": [
      "claw = examples.sill.setup()\n",
      "claw.verbosity = 0\n",
      "claw.run()"
     ],
     "language": "python",
     "metadata": {},
     "outputs": []
    },
    {
     "cell_type": "code",
     "collapsed": false,
     "input": [
      "def bathymetry(state):\n",
      "    return state.aux[0,...]\n",
      "\n",
      "def surface(state):\n",
      "    return state.aux[0,...] + state.q[0,...]\n",
      "\n",
      "def bottom(state):\n",
      "    return state.aux[0,...]*0.-1.\n",
      "fig = plt.figure()\n",
      "ax = fig.add_subplot(111)\n",
      "item5 = {'data' : claw.frames,\n",
      "         'field' : (bathymetry,surface),\n",
      "         'name' : 'depth',\n",
      "         'axes' : ax,\n",
      "         'plot_type' : 'fill_between'}\n",
      "item6 = {'data' : claw.frames,\n",
      "         'field' : (bathymetry, bottom),\n",
      "         'name' : 'bathy',\n",
      "         'axes' : ax,\n",
      "         'plot_type' : 'fill_between',\n",
      "         'plot_args' : {'color' : 'brown',\n",
      "                        'edgecolor' : 'k'}}\n",
      "griddle.animate([item5,item6])"
     ],
     "language": "python",
     "metadata": {},
     "outputs": []
    },
    {
     "cell_type": "heading",
     "level": 2,
     "metadata": {},
     "source": [
      "Writing files to disk"
     ]
    },
    {
     "cell_type": "code",
     "collapsed": false,
     "input": [
      "griddle.write_plots([item5],file_format='pdf')"
     ],
     "language": "python",
     "metadata": {},
     "outputs": []
    },
    {
     "cell_type": "heading",
     "level": 1,
     "metadata": {},
     "source": [
      "Plotting AMR data from file"
     ]
    },
    {
     "cell_type": "markdown",
     "metadata": {},
     "source": [
      "This example also shows how to plot multiple figures."
     ]
    },
    {
     "cell_type": "code",
     "collapsed": false,
     "input": [
      "fig = plt.figure(figsize=(6,6))\n",
      "ax = fig.add_subplot(111)\n",
      "item7 = {'data_path' : './test_data/_amrclaw_2d_acoustics/',\n",
      "         'field' : 0,\n",
      "         'axes' : ax,\n",
      "         'name' : 'pressure',\n",
      "         'show_patch_boundaries' : True,\n",
      "         'plot_args' : {'cmap' : 'RdBu'}}\n",
      "\n",
      "fig2 = plt.figure(figsize=(6,6))\n",
      "ax2 = fig2.add_subplot(111)\n",
      "item8 = {'data_path' : './test_data/_amrclaw_2d_acoustics/',\n",
      "         'field' : 1,\n",
      "         'axes' : ax2,\n",
      "         'name' : 'x-velocity',\n",
      "         'show_patch_boundaries' : True,\n",
      "         'plot_args' : {'cmap' : 'RdBu'}}\n",
      "plot_spec = [item7,item8]\n",
      "plot_objects = griddle.plot_frame(plot_spec,frame_num=5);"
     ],
     "language": "python",
     "metadata": {},
     "outputs": []
    },
    {
     "cell_type": "code",
     "collapsed": false,
     "input": [
      "griddle.animate([item7])"
     ],
     "language": "python",
     "metadata": {},
     "outputs": []
    },
    {
     "cell_type": "code",
     "collapsed": false,
     "input": [
      "griddle.write_plots([item7,item8])"
     ],
     "language": "python",
     "metadata": {},
     "outputs": []
    },
    {
     "cell_type": "heading",
     "level": 1,
     "metadata": {},
     "source": [
      "Plotting from 3D data with yt"
     ]
    },
    {
     "cell_type": "code",
     "collapsed": false,
     "input": [
      "# Turn off lots of logger output in notebook\n",
      "import logging\n",
      "logger = logging.getLogger()\n",
      "logger.setLevel(logging.CRITICAL)"
     ],
     "language": "python",
     "metadata": {},
     "outputs": []
    },
    {
     "cell_type": "code",
     "collapsed": false,
     "input": [
      "plot_spec = [{'data_path' : './test_data/_pyclaw_3d_shocktube_fine',\n",
      "              'field' : 'Density',\n",
      "              'plot_args' : {'normal' : 'z',\n",
      "                            'origin'  : \"native\",\n",
      "                            'center' : [1., 0.25, 0.]}}]\n",
      "plot_objects = griddle.plot_frame(plot_spec,5)"
     ],
     "language": "python",
     "metadata": {},
     "outputs": []
    },
    {
     "cell_type": "code",
     "collapsed": false,
     "input": [
      "plot_spec[0]['plot_objects'][0]"
     ],
     "language": "python",
     "metadata": {},
     "outputs": []
    },
    {
     "cell_type": "code",
     "collapsed": false,
     "input": [
      "griddle.animate(plot_spec)"
     ],
     "language": "python",
     "metadata": {},
     "outputs": []
    }
   ],
   "metadata": {}
  }
 ]
}