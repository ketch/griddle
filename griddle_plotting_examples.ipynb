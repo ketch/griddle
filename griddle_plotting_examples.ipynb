{
 "cells": [
  {
   "cell_type": "markdown",
   "metadata": {},
   "source": [
    "# Examples with `griddle.plot`"
   ]
  },
  {
   "cell_type": "markdown",
   "metadata": {},
   "source": [
    "- [1D PyClaw animation](#1D-acoustics-animation---PyClaw)\n",
    "- [2D PyClaw animation](#2D-Acoustics-animation---PyClaw)\n",
    "- [Mapped grid](#Advection-on-a-mapped-grid)\n",
    "- [Fill between](#1D-Shallow-water-fill-between)\n",
    "- [AMR data from files](#Plotting-AMR-data-from-file)\n",
    "- [Slice of 3D data with yt](#Plotting-from-3D-data-with-yt)"
   ]
  },
  {
   "cell_type": "code",
   "execution_count": null,
   "metadata": {
    "collapsed": true
   },
   "outputs": [],
   "source": [
    "%matplotlib inline\n",
    "import matplotlib.pyplot as plt\n",
    "from clawpack.pyclaw import examples\n",
    "import griddle"
   ]
  },
  {
   "cell_type": "markdown",
   "metadata": {},
   "source": [
    "# 1D acoustics animation - PyClaw"
   ]
  },
  {
   "cell_type": "code",
   "execution_count": null,
   "metadata": {},
   "outputs": [],
   "source": [
    "claw = examples.acoustics_1d.setup()\n",
    "claw.verbosity = 0\n",
    "claw.output_format = None\n",
    "claw.run()"
   ]
  },
  {
   "cell_type": "code",
   "execution_count": null,
   "metadata": {},
   "outputs": [],
   "source": [
    "fig = plt.figure()\n",
    "ax1 = fig.add_subplot(211)\n",
    "ax2 = fig.add_subplot(212)\n",
    "plt.tight_layout()\n",
    "\n",
    "pressure = {'data' : claw.frames,\n",
    "         'field' : 0,\n",
    "         'name' : 'pressure',\n",
    "         'axes' : ax1,\n",
    "         'plot_args' : {'linestyle' : '-',\n",
    "                       'marker' : 'o',\n",
    "                       'lw' : 2},\n",
    "         'axis_settings' : {'ylim' : (-0.1,1.1),'xlim':(0,1)}}\n",
    "velocity = {'data' : claw.frames,\n",
    "         'field' : 1,\n",
    "         'name' : 'velocity',\n",
    "         'axes' : ax2,\n",
    "         'plot_args' : {'linestyle' : '-',\n",
    "                       'marker' : '',\n",
    "                       'lw' : 2},\n",
    "        'axis_settings' : {'ylim' : (-0.6,0.6)}}\n",
    "plot_spec = [pressure,velocity]\n",
    "griddle.animate(plot_spec)"
   ]
  },
  {
   "cell_type": "markdown",
   "metadata": {},
   "source": [
    "# 2D Acoustics animation - PyClaw"
   ]
  },
  {
   "cell_type": "code",
   "execution_count": null,
   "metadata": {},
   "outputs": [],
   "source": [
    "claw = examples.acoustics_2d.setup()\n",
    "claw.verbosity = 0\n",
    "claw.run()"
   ]
  },
  {
   "cell_type": "code",
   "execution_count": null,
   "metadata": {},
   "outputs": [],
   "source": [
    "item = {'data' : claw.frames,\n",
    "         'field' : 0,\n",
    "         'name' : 'pressure',\n",
    "         'plot_args' : {'cmap' : 'RdBu'}}\n",
    "griddle.animate([item])"
   ]
  },
  {
   "cell_type": "markdown",
   "metadata": {},
   "source": [
    "# Advection on a mapped grid"
   ]
  },
  {
   "cell_type": "code",
   "execution_count": null,
   "metadata": {},
   "outputs": [],
   "source": [
    "claw = examples.advection_annulus.setup()\n",
    "claw.verbosity = 0\n",
    "claw.run()"
   ]
  },
  {
   "cell_type": "code",
   "execution_count": null,
   "metadata": {},
   "outputs": [],
   "source": [
    "item4 = {'data' : claw.frames,\n",
    "         'field' : 0,\n",
    "         'plot_args' : {'cmap' : 'RdBu'}}\n",
    "griddle.animate([item4])"
   ]
  },
  {
   "cell_type": "markdown",
   "metadata": {},
   "source": [
    "# 1D Shallow water fill-between"
   ]
  },
  {
   "cell_type": "markdown",
   "metadata": {},
   "source": [
    "This example also shows how to plot multiple items on the same axes."
   ]
  },
  {
   "cell_type": "code",
   "execution_count": null,
   "metadata": {},
   "outputs": [],
   "source": [
    "claw = examples.sill.setup()\n",
    "claw.verbosity = 0\n",
    "claw.run()"
   ]
  },
  {
   "cell_type": "code",
   "execution_count": null,
   "metadata": {},
   "outputs": [],
   "source": [
    "def bathymetry(state):\n",
    "    return state.aux[0,...]\n",
    "\n",
    "def surface(state):\n",
    "    return state.aux[0,...] + state.q[0,...]\n",
    "\n",
    "def bottom(state):\n",
    "    return state.aux[0,...]*0.-1.\n",
    "fig = plt.figure()\n",
    "ax = fig.add_subplot(111)\n",
    "water = {'data' : claw.frames,\n",
    "         'field' : (bathymetry,surface),\n",
    "         'name' : 'depth',\n",
    "         'axes' : ax,\n",
    "         'plot_type' : 'fill_between'}\n",
    "land = {'data' : claw.frames,\n",
    "         'field' : (bathymetry, bottom),\n",
    "         'name' : 'bathy',\n",
    "         'axes' : ax,\n",
    "         'plot_type' : 'fill_between',\n",
    "         'plot_args' : {'color' : 'brown',\n",
    "                        'edgecolor' : 'k'}}\n",
    "griddle.animate([water,land])"
   ]
  },
  {
   "cell_type": "markdown",
   "metadata": {},
   "source": [
    "## Writing files to disk"
   ]
  },
  {
   "cell_type": "code",
   "execution_count": null,
   "metadata": {
    "collapsed": true
   },
   "outputs": [],
   "source": [
    "griddle.write_plots([water,land],file_format='jpg')"
   ]
  },
  {
   "cell_type": "markdown",
   "metadata": {},
   "source": [
    "# Plotting AMR data from file"
   ]
  },
  {
   "cell_type": "markdown",
   "metadata": {},
   "source": [
    "This example also shows how to plot multiple figures."
   ]
  },
  {
   "cell_type": "code",
   "execution_count": null,
   "metadata": {},
   "outputs": [],
   "source": [
    "fig = plt.figure(figsize=(6,6))\n",
    "ax = fig.add_subplot(111)\n",
    "pressure = {'data_path' : './test_data/_amrclaw_2d_acoustics/',\n",
    "         'field' : 0,\n",
    "         'axes' : ax,\n",
    "         'name' : 'pressure',\n",
    "         'show_patch_boundaries' : True,\n",
    "         'plot_args' : {'cmap' : 'RdBu'}}\n",
    "\n",
    "fig2 = plt.figure(figsize=(6,6))\n",
    "ax2 = fig2.add_subplot(111)\n",
    "x_velocity = {'data_path' : './test_data/_amrclaw_2d_acoustics/',\n",
    "         'field' : 1,\n",
    "         'axes' : ax2,\n",
    "         'name' : 'x-velocity',\n",
    "         'show_patch_boundaries' : True,\n",
    "         'plot_args' : {'cmap' : 'RdBu'}}\n",
    "plot_spec = [pressure,x_velocity]\n",
    "plot_objects = griddle.plot_frame(plot_spec,frame_num=5);"
   ]
  },
  {
   "cell_type": "code",
   "execution_count": null,
   "metadata": {},
   "outputs": [],
   "source": [
    "griddle.animate([pressure])"
   ]
  },
  {
   "cell_type": "code",
   "execution_count": null,
   "metadata": {
    "collapsed": true
   },
   "outputs": [],
   "source": [
    "griddle.write_plots([pressure,x_velocity],path='_plots/amr/')"
   ]
  },
  {
   "cell_type": "markdown",
   "metadata": {},
   "source": [
    "# Plotting from 3D data with yt"
   ]
  },
  {
   "cell_type": "code",
   "execution_count": null,
   "metadata": {
    "collapsed": true
   },
   "outputs": [],
   "source": [
    "# Turn off lots of logger output in notebook\n",
    "import logging\n",
    "logger = logging.getLogger()\n",
    "logger.setLevel(logging.CRITICAL)"
   ]
  },
  {
   "cell_type": "code",
   "execution_count": null,
   "metadata": {},
   "outputs": [],
   "source": [
    "plot_spec = [{'data_path' : './test_data/_pyclaw_3d_shocktube',\n",
    "              'field' : 'Density',\n",
    "              'plot_args' : {'normal' : 'z',\n",
    "                            'origin'  : \"native\",\n",
    "                            'center' : [1., 0.25, 0.]}}]\n",
    "plot_objects = griddle.plot_frame(plot_spec,5)"
   ]
  },
  {
   "cell_type": "code",
   "execution_count": null,
   "metadata": {},
   "outputs": [],
   "source": [
    "plot_spec[0]['plot_objects'][0]"
   ]
  },
  {
   "cell_type": "code",
   "execution_count": null,
   "metadata": {},
   "outputs": [],
   "source": [
    "griddle.animate(plot_spec)"
   ]
  },
  {
   "cell_type": "code",
   "execution_count": null,
   "metadata": {
    "collapsed": true
   },
   "outputs": [],
   "source": []
  }
 ],
 "metadata": {
  "kernelspec": {
   "display_name": "Python 2",
   "language": "python",
   "name": "python2"
  },
  "language_info": {
   "codemirror_mode": {
    "name": "ipython",
    "version": 2
   },
   "file_extension": ".py",
   "mimetype": "text/x-python",
   "name": "python",
   "nbconvert_exporter": "python",
   "pygments_lexer": "ipython2",
   "version": "2.7.13"
  },
  "toc": {
   "nav_menu": {},
   "number_sections": true,
   "sideBar": true,
   "skip_h1_title": false,
   "toc_cell": false,
   "toc_position": {},
   "toc_section_display": "block",
   "toc_window_display": false
  }
 },
 "nbformat": 4,
 "nbformat_minor": 1
}
